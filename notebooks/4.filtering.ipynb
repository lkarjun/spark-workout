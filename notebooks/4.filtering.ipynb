{
 "cells": [
  {
   "cell_type": "code",
   "execution_count": 2,
   "metadata": {},
   "outputs": [],
   "source": [
    "from pyspark.sql import SparkSession"
   ]
  },
  {
   "cell_type": "code",
   "execution_count": 4,
   "metadata": {},
   "outputs": [
    {
     "data": {
      "text/html": [
       "\n",
       "            <div>\n",
       "                <p><b>SparkSession - in-memory</b></p>\n",
       "                \n",
       "        <div>\n",
       "            <p><b>SparkContext</b></p>\n",
       "\n",
       "            <p><a href=\"http://314f7884-15fd-450f-9a98-f8fb8144d4bf.internal.cloudapp.net:4040\">Spark UI</a></p>\n",
       "\n",
       "            <dl>\n",
       "              <dt>Version</dt>\n",
       "                <dd><code>v3.5.1</code></dd>\n",
       "              <dt>Master</dt>\n",
       "                <dd><code>local[*]</code></dd>\n",
       "              <dt>AppName</dt>\n",
       "                <dd><code>4_fiter</code></dd>\n",
       "            </dl>\n",
       "        </div>\n",
       "        \n",
       "            </div>\n",
       "        "
      ],
      "text/plain": [
       "<pyspark.sql.session.SparkSession at 0x7fd2bfcbc490>"
      ]
     },
     "execution_count": 4,
     "metadata": {},
     "output_type": "execute_result"
    },
    {
     "name": "stderr",
     "output_type": "stream",
     "text": [
      "24/03/15 05:14:27 WARN GarbageCollectionMetrics: To enable non-built-in garbage collector(s) List(G1 Concurrent GC), users should configure it(them) to spark.eventLog.gcMetrics.youngGenerationGarbageCollectors or spark.eventLog.gcMetrics.oldGenerationGarbageCollectors\n"
     ]
    }
   ],
   "source": [
    "spark = (\n",
    "    SparkSession.builder.appName('4_fiter').getOrCreate()\n",
    ")\n",
    "spark"
   ]
  },
  {
   "cell_type": "markdown",
   "metadata": {},
   "source": [
    "## Load Df"
   ]
  },
  {
   "cell_type": "code",
   "execution_count": 18,
   "metadata": {},
   "outputs": [
    {
     "name": "stdout",
     "output_type": "stream",
     "text": [
      "+-----+--------------------+---------------+------+--------+\n",
      "|Index|              \"Item\"|         \"Cost\"| \"Tax\"| \"Total\"|\n",
      "+-----+--------------------+---------------+------+--------+\n",
      "|  1.0| \"Fruit of the Lo...|           7.97|   0.6|    8.57|\n",
      "|  2.0| \"Rawlings Little...|           2.97|  0.22|    3.19|\n",
      "|  3.0| \"Secret Antipers...|           1.29|   0.1|    1.39|\n",
      "+-----+--------------------+---------------+------+--------+\n",
      "only showing top 3 rows\n",
      "\n"
     ]
    }
   ],
   "source": [
    "df = spark.read.csv('./taxables.csv', header=True, inferSchema=True)\n",
    "df.show(3)"
   ]
  },
  {
   "cell_type": "code",
   "execution_count": 19,
   "metadata": {},
   "outputs": [
    {
     "name": "stdout",
     "output_type": "stream",
     "text": [
      "root\n",
      " |-- Index: double (nullable = true)\n",
      " |--  \"Item\": string (nullable = true)\n",
      " |--  \"Cost\": string (nullable = true)\n",
      " |--  \"Tax\": double (nullable = true)\n",
      " |--  \"Total\": double (nullable = true)\n",
      "\n"
     ]
    }
   ],
   "source": [
    "df.printSchema()"
   ]
  },
  {
   "cell_type": "code",
   "execution_count": 22,
   "metadata": {},
   "outputs": [],
   "source": [
    "for i in df.columns:\n",
    "    strip_col_name = i.replace('\"', '').strip()\n",
    "    df = df.withColumnRenamed(i, strip_col_name)"
   ]
  },
  {
   "cell_type": "code",
   "execution_count": 23,
   "metadata": {},
   "outputs": [
    {
     "name": "stdout",
     "output_type": "stream",
     "text": [
      "+-----+--------------------+--------------------+----+-----+\n",
      "|Index|                Item|                Cost| Tax|Total|\n",
      "+-----+--------------------+--------------------+----+-----+\n",
      "|  1.0| \"Fruit of the Lo...|                7.97| 0.6| 8.57|\n",
      "|  2.0| \"Rawlings Little...|                2.97|0.22| 3.19|\n",
      "|  3.0| \"Secret Antipers...|                1.29| 0.1| 1.39|\n",
      "|  4.0|      \"Deadpool DVD\"|                 ...|1.12|16.08|\n",
      "|  5.0| \"Maxwell House C...|                7.28|0.55| 7.83|\n",
      "|  6.0| \"Banana Boat Sun...|               8 oz\"|6.68|  0.5|\n",
      "|  7.0|         \"Wrench Set|          18 pieces\"|10.0| 0.75|\n",
      "|  8.0|            \"M and M|              42 oz\"|8.98| 0.67|\n",
      "|  9.0| \"Bertoli Alfredo...|                2.12|0.16| 2.28|\n",
      "| 10.0|   \"Large Paperclips|           10 boxes\"|6.19| 0.46|\n",
      "+-----+--------------------+--------------------+----+-----+\n",
      "\n"
     ]
    }
   ],
   "source": [
    "df.show()"
   ]
  },
  {
   "cell_type": "markdown",
   "metadata": {},
   "source": [
    "## Filter operations"
   ]
  },
  {
   "cell_type": "code",
   "execution_count": 29,
   "metadata": {},
   "outputs": [
    {
     "name": "stdout",
     "output_type": "stream",
     "text": [
      "+-----+--------------------+-----------+----+-----+\n",
      "|Index|                Item|       Cost| Tax|Total|\n",
      "+-----+--------------------+-----------+----+-----+\n",
      "|  6.0| \"Banana Boat Sun...|      8 oz\"|6.68|  0.5|\n",
      "|  7.0|         \"Wrench Set| 18 pieces\"|10.0| 0.75|\n",
      "|  8.0|            \"M and M|     42 oz\"|8.98| 0.67|\n",
      "| 10.0|   \"Large Paperclips|  10 boxes\"|6.19| 0.46|\n",
      "+-----+--------------------+-----------+----+-----+\n",
      "\n"
     ]
    }
   ],
   "source": [
    "## Tax less than 5\n",
    "df.filter('Tax>=5.0').show()"
   ]
  },
  {
   "cell_type": "code",
   "execution_count": 30,
   "metadata": {},
   "outputs": [
    {
     "name": "stdout",
     "output_type": "stream",
     "text": [
      "+--------------------+-----------+\n",
      "|                Item|       Cost|\n",
      "+--------------------+-----------+\n",
      "| \"Banana Boat Sun...|      8 oz\"|\n",
      "|         \"Wrench Set| 18 pieces\"|\n",
      "|            \"M and M|     42 oz\"|\n",
      "|   \"Large Paperclips|  10 boxes\"|\n",
      "+--------------------+-----------+\n",
      "\n"
     ]
    }
   ],
   "source": [
    "df.filter('Tax>=5.').select(['Item', 'Cost']).show()"
   ]
  },
  {
   "cell_type": "code",
   "execution_count": 32,
   "metadata": {},
   "outputs": [
    {
     "name": "stdout",
     "output_type": "stream",
     "text": [
      "+-----+--------------------+-----------+----+-----+\n",
      "|Index|                Item|       Cost| Tax|Total|\n",
      "+-----+--------------------+-----------+----+-----+\n",
      "|  6.0| \"Banana Boat Sun...|      8 oz\"|6.68|  0.5|\n",
      "|  7.0|         \"Wrench Set| 18 pieces\"|10.0| 0.75|\n",
      "|  8.0|            \"M and M|     42 oz\"|8.98| 0.67|\n",
      "| 10.0|   \"Large Paperclips|  10 boxes\"|6.19| 0.46|\n",
      "+-----+--------------------+-----------+----+-----+\n",
      "\n"
     ]
    }
   ],
   "source": [
    "df.filter(df['Tax']>=5.0).show()"
   ]
  },
  {
   "cell_type": "code",
   "execution_count": 34,
   "metadata": {},
   "outputs": [
    {
     "name": "stdout",
     "output_type": "stream",
     "text": [
      "+-----+--------------------+-----------+----+-----+\n",
      "|Index|                Item|       Cost| Tax|Total|\n",
      "+-----+--------------------+-----------+----+-----+\n",
      "|  6.0| \"Banana Boat Sun...|      8 oz\"|6.68|  0.5|\n",
      "|  7.0|         \"Wrench Set| 18 pieces\"|10.0| 0.75|\n",
      "|  8.0|            \"M and M|     42 oz\"|8.98| 0.67|\n",
      "+-----+--------------------+-----------+----+-----+\n",
      "\n"
     ]
    }
   ],
   "source": [
    "# And\n",
    "df.filter((df['Tax']>=5.0) & (df['Total']>=.5)).show()"
   ]
  },
  {
   "cell_type": "code",
   "execution_count": null,
   "metadata": {},
   "outputs": [],
   "source": []
  },
  {
   "cell_type": "code",
   "execution_count": 35,
   "metadata": {},
   "outputs": [
    {
     "name": "stdout",
     "output_type": "stream",
     "text": [
      "+-----+--------------------+--------------------+----+-----+\n",
      "|Index|                Item|                Cost| Tax|Total|\n",
      "+-----+--------------------+--------------------+----+-----+\n",
      "|  1.0| \"Fruit of the Lo...|                7.97| 0.6| 8.57|\n",
      "|  2.0| \"Rawlings Little...|                2.97|0.22| 3.19|\n",
      "|  3.0| \"Secret Antipers...|                1.29| 0.1| 1.39|\n",
      "|  4.0|      \"Deadpool DVD\"|                 ...|1.12|16.08|\n",
      "|  5.0| \"Maxwell House C...|                7.28|0.55| 7.83|\n",
      "|  6.0| \"Banana Boat Sun...|               8 oz\"|6.68|  0.5|\n",
      "|  7.0|         \"Wrench Set|          18 pieces\"|10.0| 0.75|\n",
      "|  8.0|            \"M and M|              42 oz\"|8.98| 0.67|\n",
      "|  9.0| \"Bertoli Alfredo...|                2.12|0.16| 2.28|\n",
      "| 10.0|   \"Large Paperclips|           10 boxes\"|6.19| 0.46|\n",
      "+-----+--------------------+--------------------+----+-----+\n",
      "\n"
     ]
    }
   ],
   "source": [
    "# OR\n",
    "df.filter((df['Tax']>=5.0) | (df['Total']>=.5)).show()"
   ]
  },
  {
   "cell_type": "code",
   "execution_count": null,
   "metadata": {},
   "outputs": [],
   "source": []
  },
  {
   "cell_type": "code",
   "execution_count": 36,
   "metadata": {},
   "outputs": [
    {
     "name": "stdout",
     "output_type": "stream",
     "text": [
      "+-----+--------------------+--------------------+----+-----+\n",
      "|Index|                Item|                Cost| Tax|Total|\n",
      "+-----+--------------------+--------------------+----+-----+\n",
      "|  1.0| \"Fruit of the Lo...|                7.97| 0.6| 8.57|\n",
      "|  2.0| \"Rawlings Little...|                2.97|0.22| 3.19|\n",
      "|  3.0| \"Secret Antipers...|                1.29| 0.1| 1.39|\n",
      "|  4.0|      \"Deadpool DVD\"|                 ...|1.12|16.08|\n",
      "|  5.0| \"Maxwell House C...|                7.28|0.55| 7.83|\n",
      "|  9.0| \"Bertoli Alfredo...|                2.12|0.16| 2.28|\n",
      "+-----+--------------------+--------------------+----+-----+\n",
      "\n"
     ]
    }
   ],
   "source": [
    "# Inverse\n",
    "df.filter(~(df['Tax']>=5.0)).show()"
   ]
  },
  {
   "cell_type": "code",
   "execution_count": null,
   "metadata": {},
   "outputs": [],
   "source": []
  }
 ],
 "metadata": {
  "kernelspec": {
   "display_name": "spark-workout-4_rujIs2",
   "language": "python",
   "name": "python3"
  },
  "language_info": {
   "codemirror_mode": {
    "name": "ipython",
    "version": 3
   },
   "file_extension": ".py",
   "mimetype": "text/x-python",
   "name": "python",
   "nbconvert_exporter": "python",
   "pygments_lexer": "ipython3",
   "version": "3.10.13"
  }
 },
 "nbformat": 4,
 "nbformat_minor": 2
}
