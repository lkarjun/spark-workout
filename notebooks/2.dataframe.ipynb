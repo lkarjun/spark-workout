{
 "cells": [
  {
   "cell_type": "code",
   "execution_count": 3,
   "metadata": {},
   "outputs": [],
   "source": [
    "import pyspark\n",
    "from pyspark.sql import SparkSession"
   ]
  },
  {
   "cell_type": "code",
   "execution_count": 5,
   "metadata": {},
   "outputs": [
    {
     "data": {
      "text/html": [
       "\n",
       "            <div>\n",
       "                <p><b>SparkSession - in-memory</b></p>\n",
       "                \n",
       "        <div>\n",
       "            <p><b>SparkContext</b></p>\n",
       "\n",
       "            <p><a href=\"http://7fbfa186-4de9-4e16-a259-74f6318b2c29.internal.cloudapp.net:4040\">Spark UI</a></p>\n",
       "\n",
       "            <dl>\n",
       "              <dt>Version</dt>\n",
       "                <dd><code>v3.5.1</code></dd>\n",
       "              <dt>Master</dt>\n",
       "                <dd><code>local[*]</code></dd>\n",
       "              <dt>AppName</dt>\n",
       "                <dd><code>2_frame</code></dd>\n",
       "            </dl>\n",
       "        </div>\n",
       "        \n",
       "            </div>\n",
       "        "
      ],
      "text/plain": [
       "<pyspark.sql.session.SparkSession at 0x7fba4405c730>"
      ]
     },
     "execution_count": 5,
     "metadata": {},
     "output_type": "execute_result"
    },
    {
     "name": "stderr",
     "output_type": "stream",
     "text": [
      "24/03/14 06:07:43 WARN GarbageCollectionMetrics: To enable non-built-in garbage collector(s) List(G1 Concurrent GC), users should configure it(them) to spark.eventLog.gcMetrics.youngGenerationGarbageCollectors or spark.eventLog.gcMetrics.oldGenerationGarbageCollectors\n"
     ]
    }
   ],
   "source": [
    "spark = SparkSession.builder.appName('2_frame').getOrCreate()\n",
    "spark"
   ]
  },
  {
   "cell_type": "markdown",
   "metadata": {},
   "source": [
    "## Pyspark DataFrame"
   ]
  },
  {
   "cell_type": "code",
   "execution_count": 35,
   "metadata": {},
   "outputs": [
    {
     "name": "stdout",
     "output_type": "stream",
     "text": [
      "--2024-03-14 06:22:09--  https://people.sc.fsu.edu/~jburkardt/data/csv/taxables.csv\n",
      "Resolving people.sc.fsu.edu (people.sc.fsu.edu)... 144.174.0.22\n",
      "Connecting to people.sc.fsu.edu (people.sc.fsu.edu)|144.174.0.22|:443... connected.\n",
      "HTTP request sent, awaiting response... 200 OK\n",
      "Length: 611 [text/csv]\n",
      "Saving to: ‘taxables.csv’\n",
      "\n",
      "taxables.csv        100%[===================>]     611  --.-KB/s    in 0s      \n",
      "\n",
      "2024-03-14 06:22:11 (83.7 MB/s) - ‘taxables.csv’ saved [611/611]\n",
      "\n"
     ]
    }
   ],
   "source": [
    "!wget https://people.sc.fsu.edu/~jburkardt/data/csv/taxables.csv"
   ]
  },
  {
   "cell_type": "code",
   "execution_count": 37,
   "metadata": {},
   "outputs": [],
   "source": [
    "df = spark.read.format('csv').option('header', 'true').load(\n",
    "    'taxables.csv', inferSchema=True\n",
    ")\n",
    "\n",
    "#or \n",
    "df = spark.read.csv(\"taxables.csv\", header=True, inferSchema=True)"
   ]
  },
  {
   "cell_type": "code",
   "execution_count": 38,
   "metadata": {},
   "outputs": [
    {
     "name": "stdout",
     "output_type": "stream",
     "text": [
      "+-----+--------------------+--------------------+------+--------+\n",
      "|Index|              \"Item\"|              \"Cost\"| \"Tax\"| \"Total\"|\n",
      "+-----+--------------------+--------------------+------+--------+\n",
      "|  1.0| \"Fruit of the Lo...|                7.97|   0.6|    8.57|\n",
      "|  2.0| \"Rawlings Little...|                2.97|  0.22|    3.19|\n",
      "|  3.0| \"Secret Antipers...|                1.29|   0.1|    1.39|\n",
      "|  4.0|      \"Deadpool DVD\"|                 ...|  1.12|   16.08|\n",
      "|  5.0| \"Maxwell House C...|                7.28|  0.55|    7.83|\n",
      "|  6.0| \"Banana Boat Sun...|               8 oz\"|  6.68|     0.5|\n",
      "|  7.0|         \"Wrench Set|          18 pieces\"|  10.0|    0.75|\n",
      "|  8.0|            \"M and M|              42 oz\"|  8.98|    0.67|\n",
      "|  9.0| \"Bertoli Alfredo...|                2.12|  0.16|    2.28|\n",
      "| 10.0|   \"Large Paperclips|           10 boxes\"|  6.19|    0.46|\n",
      "+-----+--------------------+--------------------+------+--------+\n",
      "\n"
     ]
    }
   ],
   "source": [
    "df.show()"
   ]
  },
  {
   "cell_type": "markdown",
   "metadata": {},
   "source": [
    "## Schema"
   ]
  },
  {
   "cell_type": "code",
   "execution_count": 39,
   "metadata": {},
   "outputs": [
    {
     "name": "stdout",
     "output_type": "stream",
     "text": [
      "root\n",
      " |-- Index: double (nullable = true)\n",
      " |--  \"Item\": string (nullable = true)\n",
      " |--  \"Cost\": string (nullable = true)\n",
      " |--  \"Tax\": double (nullable = true)\n",
      " |--  \"Total\": double (nullable = true)\n",
      "\n"
     ]
    }
   ],
   "source": [
    "df.printSchema()"
   ]
  },
  {
   "cell_type": "code",
   "execution_count": 40,
   "metadata": {},
   "outputs": [
    {
     "data": {
      "text/plain": [
       "pyspark.sql.dataframe.DataFrame"
      ]
     },
     "execution_count": 40,
     "metadata": {},
     "output_type": "execute_result"
    }
   ],
   "source": [
    "type(df)"
   ]
  },
  {
   "cell_type": "code",
   "execution_count": null,
   "metadata": {},
   "outputs": [],
   "source": []
  },
  {
   "cell_type": "markdown",
   "metadata": {},
   "source": [
    "## Getting columns"
   ]
  },
  {
   "cell_type": "code",
   "execution_count": 49,
   "metadata": {},
   "outputs": [
    {
     "data": {
      "text/plain": [
       "['Index', ' \"Item\"', ' \"Cost\"', ' \"Tax\"', ' \"Total\"']"
      ]
     },
     "execution_count": 49,
     "metadata": {},
     "output_type": "execute_result"
    }
   ],
   "source": [
    "columns = df.columns\n",
    "columns"
   ]
  },
  {
   "cell_type": "code",
   "execution_count": 50,
   "metadata": {},
   "outputs": [
    {
     "name": "stdout",
     "output_type": "stream",
     "text": [
      "+------+\n",
      "| \"Tax\"|\n",
      "+------+\n",
      "|   0.6|\n",
      "|  0.22|\n",
      "|   0.1|\n",
      "|  1.12|\n",
      "|  0.55|\n",
      "+------+\n",
      "only showing top 5 rows\n",
      "\n"
     ]
    }
   ],
   "source": [
    "df.select(columns[3]).show(5)"
   ]
  },
  {
   "cell_type": "code",
   "execution_count": 53,
   "metadata": {},
   "outputs": [
    {
     "name": "stdout",
     "output_type": "stream",
     "text": [
      "+--------------------+--------------------+\n",
      "|              \"Item\"|              \"Cost\"|\n",
      "+--------------------+--------------------+\n",
      "| \"Fruit of the Lo...|                7.97|\n",
      "| \"Rawlings Little...|                2.97|\n",
      "| \"Secret Antipers...|                1.29|\n",
      "|      \"Deadpool DVD\"|                 ...|\n",
      "| \"Maxwell House C...|                7.28|\n",
      "| \"Banana Boat Sun...|               8 oz\"|\n",
      "|         \"Wrench Set|          18 pieces\"|\n",
      "|            \"M and M|              42 oz\"|\n",
      "| \"Bertoli Alfredo...|                2.12|\n",
      "|   \"Large Paperclips|           10 boxes\"|\n",
      "+--------------------+--------------------+\n",
      "\n"
     ]
    }
   ],
   "source": [
    "df.select(columns[1:3]).show()"
   ]
  },
  {
   "cell_type": "code",
   "execution_count": null,
   "metadata": {},
   "outputs": [],
   "source": []
  },
  {
   "cell_type": "markdown",
   "metadata": {},
   "source": [
    "## Describe dataframe"
   ]
  },
  {
   "cell_type": "code",
   "execution_count": 55,
   "metadata": {},
   "outputs": [
    {
     "name": "stderr",
     "output_type": "stream",
     "text": [
      "24/03/14 06:25:57 WARN SparkStringUtils: Truncated the string representation of a plan since it was too large. This behavior can be adjusted by setting 'spark.sql.debug.maxToStringFields'.\n"
     ]
    },
    {
     "name": "stdout",
     "output_type": "stream",
     "text": [
      "+-------+------------------+--------------------+--------------------+-----------------+-----------------+\n",
      "|summary|             Index|              \"Item\"|              \"Cost\"|            \"Tax\"|          \"Total\"|\n",
      "+-------+------------------+--------------------+--------------------+-----------------+-----------------+\n",
      "|  count|                10|                  10|                  10|               10|               10|\n",
      "|   mean|               5.5|                NULL|   6.098333333333333|             3.46|            4.172|\n",
      "| stddev|3.0276503540974917|                NULL|   5.141250496393526|4.025802887485786|5.142891102180648|\n",
      "|    min|               1.0| \"Banana Boat Sun...|                 ...|              0.1|             0.46|\n",
      "|    max|              10.0|         \"Wrench Set|               8 oz\"|             10.0|            16.08|\n",
      "+-------+------------------+--------------------+--------------------+-----------------+-----------------+\n",
      "\n"
     ]
    }
   ],
   "source": [
    "df.describe().show()"
   ]
  },
  {
   "cell_type": "code",
   "execution_count": 56,
   "metadata": {},
   "outputs": [
    {
     "data": {
      "text/plain": [
       "[('Index', 'double'),\n",
       " (' \"Item\"', 'string'),\n",
       " (' \"Cost\"', 'string'),\n",
       " (' \"Tax\"', 'double'),\n",
       " (' \"Total\"', 'double')]"
      ]
     },
     "execution_count": 56,
     "metadata": {},
     "output_type": "execute_result"
    }
   ],
   "source": [
    "df.dtypes"
   ]
  },
  {
   "cell_type": "code",
   "execution_count": null,
   "metadata": {},
   "outputs": [],
   "source": []
  },
  {
   "cell_type": "markdown",
   "metadata": {},
   "source": [
    "## Adding new column"
   ]
  },
  {
   "cell_type": "code",
   "execution_count": 58,
   "metadata": {},
   "outputs": [
    {
     "data": {
      "text/plain": [
       "Column<' \"Tax\"'>"
      ]
     },
     "execution_count": 58,
     "metadata": {},
     "output_type": "execute_result"
    }
   ],
   "source": [
    "df[columns[3]]"
   ]
  },
  {
   "cell_type": "code",
   "execution_count": 63,
   "metadata": {},
   "outputs": [],
   "source": [
    "df = df.withColumn('New Tax', df[columns[3]] + 10)"
   ]
  },
  {
   "cell_type": "code",
   "execution_count": 65,
   "metadata": {},
   "outputs": [
    {
     "name": "stdout",
     "output_type": "stream",
     "text": [
      "+-----+--------------------+--------------------+------+--------+------------------+\n",
      "|Index|              \"Item\"|              \"Cost\"| \"Tax\"| \"Total\"|           New Tax|\n",
      "+-----+--------------------+--------------------+------+--------+------------------+\n",
      "|  1.0| \"Fruit of the Lo...|                7.97|   0.6|    8.57|              10.6|\n",
      "|  2.0| \"Rawlings Little...|                2.97|  0.22|    3.19|             10.22|\n",
      "|  3.0| \"Secret Antipers...|                1.29|   0.1|    1.39|              10.1|\n",
      "|  4.0|      \"Deadpool DVD\"|                 ...|  1.12|   16.08|11.120000000000001|\n",
      "|  5.0| \"Maxwell House C...|                7.28|  0.55|    7.83|             10.55|\n",
      "|  6.0| \"Banana Boat Sun...|               8 oz\"|  6.68|     0.5|             16.68|\n",
      "|  7.0|         \"Wrench Set|          18 pieces\"|  10.0|    0.75|              20.0|\n",
      "|  8.0|            \"M and M|              42 oz\"|  8.98|    0.67|             18.98|\n",
      "|  9.0| \"Bertoli Alfredo...|                2.12|  0.16|    2.28|             10.16|\n",
      "| 10.0|   \"Large Paperclips|           10 boxes\"|  6.19|    0.46|             16.19|\n",
      "+-----+--------------------+--------------------+------+--------+------------------+\n",
      "\n"
     ]
    }
   ],
   "source": [
    "df.show()"
   ]
  },
  {
   "cell_type": "code",
   "execution_count": null,
   "metadata": {},
   "outputs": [],
   "source": []
  },
  {
   "cell_type": "markdown",
   "metadata": {},
   "source": [
    "## Removing columns"
   ]
  },
  {
   "cell_type": "code",
   "execution_count": 67,
   "metadata": {},
   "outputs": [],
   "source": [
    "df = df.drop(columns[3])"
   ]
  },
  {
   "cell_type": "code",
   "execution_count": 69,
   "metadata": {},
   "outputs": [
    {
     "name": "stdout",
     "output_type": "stream",
     "text": [
      "+-----+--------------------+--------------------+--------+------------------+\n",
      "|Index|              \"Item\"|              \"Cost\"| \"Total\"|           New Tax|\n",
      "+-----+--------------------+--------------------+--------+------------------+\n",
      "|  1.0| \"Fruit of the Lo...|                7.97|    8.57|              10.6|\n",
      "|  2.0| \"Rawlings Little...|                2.97|    3.19|             10.22|\n",
      "|  3.0| \"Secret Antipers...|                1.29|    1.39|              10.1|\n",
      "|  4.0|      \"Deadpool DVD\"|                 ...|   16.08|11.120000000000001|\n",
      "|  5.0| \"Maxwell House C...|                7.28|    7.83|             10.55|\n",
      "|  6.0| \"Banana Boat Sun...|               8 oz\"|     0.5|             16.68|\n",
      "|  7.0|         \"Wrench Set|          18 pieces\"|    0.75|              20.0|\n",
      "|  8.0|            \"M and M|              42 oz\"|    0.67|             18.98|\n",
      "|  9.0| \"Bertoli Alfredo...|                2.12|    2.28|             10.16|\n",
      "| 10.0|   \"Large Paperclips|           10 boxes\"|    0.46|             16.19|\n",
      "+-----+--------------------+--------------------+--------+------------------+\n",
      "\n"
     ]
    }
   ],
   "source": [
    "df.show()"
   ]
  },
  {
   "cell_type": "code",
   "execution_count": null,
   "metadata": {},
   "outputs": [],
   "source": []
  },
  {
   "cell_type": "markdown",
   "metadata": {},
   "source": [
    "## Rename column"
   ]
  },
  {
   "cell_type": "code",
   "execution_count": 70,
   "metadata": {},
   "outputs": [],
   "source": [
    "df = df.withColumnRenamed('New Tax', 'Tax')"
   ]
  },
  {
   "cell_type": "code",
   "execution_count": 71,
   "metadata": {},
   "outputs": [
    {
     "name": "stdout",
     "output_type": "stream",
     "text": [
      "+-----+--------------------+--------------------+--------+------------------+\n",
      "|Index|              \"Item\"|              \"Cost\"| \"Total\"|               Tax|\n",
      "+-----+--------------------+--------------------+--------+------------------+\n",
      "|  1.0| \"Fruit of the Lo...|                7.97|    8.57|              10.6|\n",
      "|  2.0| \"Rawlings Little...|                2.97|    3.19|             10.22|\n",
      "|  3.0| \"Secret Antipers...|                1.29|    1.39|              10.1|\n",
      "|  4.0|      \"Deadpool DVD\"|                 ...|   16.08|11.120000000000001|\n",
      "+-----+--------------------+--------------------+--------+------------------+\n",
      "only showing top 4 rows\n",
      "\n"
     ]
    }
   ],
   "source": [
    "df.show(4)"
   ]
  },
  {
   "cell_type": "code",
   "execution_count": null,
   "metadata": {},
   "outputs": [],
   "source": []
  }
 ],
 "metadata": {
  "kernelspec": {
   "display_name": "spark-workout-4_rujIs2",
   "language": "python",
   "name": "python3"
  },
  "language_info": {
   "codemirror_mode": {
    "name": "ipython",
    "version": 3
   },
   "file_extension": ".py",
   "mimetype": "text/x-python",
   "name": "python",
   "nbconvert_exporter": "python",
   "pygments_lexer": "ipython3",
   "version": "3.10.13"
  }
 },
 "nbformat": 4,
 "nbformat_minor": 2
}
