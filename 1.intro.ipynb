{
 "cells": [
  {
   "cell_type": "code",
   "execution_count": 1,
   "metadata": {},
   "outputs": [
    {
     "data": {
      "text/plain": [
       "'3.5.1'"
      ]
     },
     "execution_count": 1,
     "metadata": {},
     "output_type": "execute_result"
    }
   ],
   "source": [
    "import pyspark\n",
    "pyspark.__version__"
   ]
  },
  {
   "cell_type": "markdown",
   "metadata": {},
   "source": [
    "## Spark session"
   ]
  },
  {
   "cell_type": "code",
   "execution_count": 2,
   "metadata": {},
   "outputs": [],
   "source": [
    "from pyspark.sql import SparkSession"
   ]
  },
  {
   "cell_type": "code",
   "execution_count": 3,
   "metadata": {},
   "outputs": [
    {
     "name": "stderr",
     "output_type": "stream",
     "text": [
      "24/03/14 06:02:41 WARN Utils: Your hostname, codespaces-1b3260 resolves to a loopback address: 127.0.0.1; using 172.16.5.4 instead (on interface eth0)\n",
      "24/03/14 06:02:41 WARN Utils: Set SPARK_LOCAL_IP if you need to bind to another address\n",
      "Setting default log level to \"WARN\".\n",
      "To adjust logging level use sc.setLogLevel(newLevel). For SparkR, use setLogLevel(newLevel).\n",
      "24/03/14 06:02:44 WARN NativeCodeLoader: Unable to load native-hadoop library for your platform... using builtin-java classes where applicable\n"
     ]
    }
   ],
   "source": [
    "spark = SparkSession.builder.appName(\"spark_intro\").getOrCreate()\n",
    "spark"
   ]
  },
  {
   "cell_type": "code",
   "execution_count": null,
   "metadata": {},
   "outputs": [],
   "source": []
  },
  {
   "cell_type": "markdown",
   "metadata": {},
   "source": [
    "## Reading csv file"
   ]
  },
  {
   "cell_type": "code",
   "execution_count": null,
   "metadata": {},
   "outputs": [
    {
     "name": "stdout",
     "output_type": "stream",
     "text": [
      "--2024-03-14 04:31:44--  https://people.sc.fsu.edu/~jburkardt/data/csv/snakes_count_1000.csv\n",
      "Resolving people.sc.fsu.edu (people.sc.fsu.edu)... 144.174.0.22\n",
      "Connecting to people.sc.fsu.edu (people.sc.fsu.edu)|144.174.0.22|:443... connected.\n",
      "HTTP request sent, awaiting response... 200 OK\n",
      "Length: 7918 (7.7K) [text/csv]\n",
      "Saving to: ‘snakes_count_1000.csv.1’\n",
      "\n",
      "snakes_count_1000.c 100%[===================>]   7.73K  --.-KB/s    in 0s      \n",
      "\n",
      "2024-03-14 04:31:45 (98.2 MB/s) - ‘snakes_count_1000.csv.1’ saved [7918/7918]\n",
      "\n"
     ]
    }
   ],
   "source": [
    "!wget https://people.sc.fsu.edu/~jburkardt/data/csv/snakes_count_1000.csv"
   ]
  },
  {
   "cell_type": "code",
   "execution_count": null,
   "metadata": {},
   "outputs": [],
   "source": [
    "df = spark.read.csv(\"snakes_count_1000.csv\")\n",
    "\n",
    "#or\n",
    "# df = spark.read.format('csv').load('snakes_count_1000.csv')"
   ]
  },
  {
   "cell_type": "code",
   "execution_count": null,
   "metadata": {},
   "outputs": [
    {
     "name": "stdout",
     "output_type": "stream",
     "text": [
      "+-----------+--------------+\n",
      "|        _c0|           _c1|\n",
      "+-----------+--------------+\n",
      "|Game Number| \"Game Length\"|\n",
      "|          1|            30|\n",
      "|          2|            29|\n",
      "|          3|            31|\n",
      "|          4|            16|\n",
      "|          5|            24|\n",
      "|          6|            29|\n",
      "|          7|            28|\n",
      "|          8|           117|\n",
      "|          9|            42|\n",
      "|         10|            23|\n",
      "|         11|            40|\n",
      "|         12|            15|\n",
      "|         13|            18|\n",
      "|         14|            51|\n",
      "|         15|            15|\n",
      "|         16|            19|\n",
      "|         17|            30|\n",
      "|         18|            25|\n",
      "|         19|            17|\n",
      "+-----------+--------------+\n",
      "only showing top 20 rows\n",
      "\n"
     ]
    }
   ],
   "source": [
    "df.show()"
   ]
  },
  {
   "cell_type": "code",
   "execution_count": null,
   "metadata": {},
   "outputs": [],
   "source": [
    "df = spark.read.option('header', 'true').csv(\"snakes_count_1000.csv\")"
   ]
  },
  {
   "cell_type": "code",
   "execution_count": null,
   "metadata": {},
   "outputs": [
    {
     "name": "stdout",
     "output_type": "stream",
     "text": [
      "+-----------+--------------+\n",
      "|Game Number| \"Game Length\"|\n",
      "+-----------+--------------+\n",
      "|          1|            30|\n",
      "|          2|            29|\n",
      "|          3|            31|\n",
      "|          4|            16|\n",
      "|          5|            24|\n",
      "|          6|            29|\n",
      "|          7|            28|\n",
      "|          8|           117|\n",
      "|          9|            42|\n",
      "|         10|            23|\n",
      "|         11|            40|\n",
      "|         12|            15|\n",
      "|         13|            18|\n",
      "|         14|            51|\n",
      "|         15|            15|\n",
      "|         16|            19|\n",
      "|         17|            30|\n",
      "|         18|            25|\n",
      "|         19|            17|\n",
      "|         20|            55|\n",
      "+-----------+--------------+\n",
      "only showing top 20 rows\n",
      "\n"
     ]
    }
   ],
   "source": [
    "df.show()"
   ]
  },
  {
   "cell_type": "code",
   "execution_count": null,
   "metadata": {},
   "outputs": [
    {
     "data": {
      "text/plain": [
       "pyspark.sql.dataframe.DataFrame"
      ]
     },
     "execution_count": 25,
     "metadata": {},
     "output_type": "execute_result"
    }
   ],
   "source": [
    "type(df)"
   ]
  },
  {
   "cell_type": "code",
   "execution_count": null,
   "metadata": {},
   "outputs": [
    {
     "data": {
      "text/plain": [
       "[Row(Game Number='1',  \"Game Length\"=' 30')]"
      ]
     },
     "execution_count": 29,
     "metadata": {},
     "output_type": "execute_result"
    }
   ],
   "source": [
    "df.head(1)"
   ]
  },
  {
   "cell_type": "code",
   "execution_count": null,
   "metadata": {},
   "outputs": [
    {
     "name": "stdout",
     "output_type": "stream",
     "text": [
      "root\n",
      " |-- Game Number: string (nullable = true)\n",
      " |--  \"Game Length\": string (nullable = true)\n",
      "\n"
     ]
    }
   ],
   "source": [
    "df.printSchema()"
   ]
  },
  {
   "cell_type": "code",
   "execution_count": null,
   "metadata": {},
   "outputs": [],
   "source": []
  },
  {
   "cell_type": "code",
   "execution_count": null,
   "metadata": {},
   "outputs": [],
   "source": []
  },
  {
   "cell_type": "code",
   "execution_count": null,
   "metadata": {},
   "outputs": [],
   "source": []
  },
  {
   "cell_type": "code",
   "execution_count": null,
   "metadata": {},
   "outputs": [],
   "source": []
  },
  {
   "cell_type": "code",
   "execution_count": null,
   "metadata": {},
   "outputs": [],
   "source": []
  },
  {
   "cell_type": "code",
   "execution_count": null,
   "metadata": {},
   "outputs": [],
   "source": []
  }
 ],
 "metadata": {
  "kernelspec": {
   "display_name": "spark-workout-4_rujIs2",
   "language": "python",
   "name": "python3"
  },
  "language_info": {
   "codemirror_mode": {
    "name": "ipython",
    "version": 3
   },
   "file_extension": ".py",
   "mimetype": "text/x-python",
   "name": "python",
   "nbconvert_exporter": "python",
   "pygments_lexer": "ipython3",
   "version": "3.10.13"
  }
 },
 "nbformat": 4,
 "nbformat_minor": 2
}
